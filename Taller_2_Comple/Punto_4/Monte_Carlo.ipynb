{
 "cells": [
  {
   "cell_type": "code",
   "execution_count": 3,
   "metadata": {},
   "outputs": [
    {
     "name": "stdout",
     "output_type": "stream",
     "text": [
      "El valor teórico es: 0.521607 y valor utilizando Monte Carlo es 0.521190, con un error porcentual de:  0.079871%\n"
     ]
    }
   ],
   "source": [
    "import numpy as np\n",
    "import matplotlib.pyplot as plt\n",
    "\n",
    "N = 1000000\n",
    "a = 0\n",
    "b = np.pi\n",
    "x = np.random.uniform(a,b,N) #N es el número de muestras aleatorias que tomará\n",
    "\n",
    "def func_integrate(x):\n",
    "    return np.exp(-x)*np.sin(x)\n",
    "\n",
    "fi = func_integrate(x)\n",
    "I = (b-a)*sum(fi)/N\n",
    "Iteo = 0.5*(1+np.exp(-np.pi))\n",
    "print(f'El valor teórico es: {Iteo:.6f} y valor utilizando Monte Carlo es {I:.6f}, con un error porcentual de: {np.abs(1-I/Iteo): .6%}')\n",
    "\n",
    "def error(n):\n",
    "    \"\"\"\n",
    "    Parámetros:\n",
    "    n = lista con la cantidad (números enteros) de muestras para el cálculo de la integral\n",
    "    Return:\n",
    "    Lista con el error porcentual correspondiente a cada cantidad\n",
    "    \"\"\"\n",
    "    return np.abs(1-((np.pi-0)*sum(fi)/n)/(Iteo))\n",
    "\n",
    "n = np.linspace(1, 1000000, 1000000) #Representa el número de muestras, desde 1 a 1000000\n",
    "Error = error(n) #Calcula el error porcentual para el número total de muestras desde 1 a 1000000\n",
    "fig, ax = plt.subplots()\n",
    "ax.plot(n, Error)\n",
    "plt.xlim(0,10000) #Ajusta la escala del eje x para que se aprecie mejor la curva \n",
    "plt.ylim(0,10000) #Ajusta la escala del eje y para que se aprecie mejor la curva\n",
    "\n"
   ]
  },
  {
   "cell_type": "code",
   "execution_count": 34,
   "metadata": {},
   "outputs": [
    {
     "name": "stdout",
     "output_type": "stream",
     "text": [
      "El valor teórico es: 0.521607 y valor utilizando Monte Carlo es 0.521573, con un error porcentual de:  0.006492%\n"
     ]
    },
    {
     "data": {
      "text/plain": [
       "(0.0, 10000.0)"
      ]
     },
     "execution_count": 34,
     "metadata": {},
     "output_type": "execute_result"
    },
    {
     "data": {
      "image/png": "[encoded data removed]",
      "text/plain": [
       "<Figure size 640x480 with 1 Axes>"
      ]
     },
     "metadata": {},
     "output_type": "display_data"
    }
   ],
   "source": [
    "import numpy as np\n",
    "import matplotlib.pyplot as plt\n",
    "\n",
    "N = 1000000\n",
    "a = 0\n",
    "b = np.pi\n",
    "x = np.random.uniform(a,b,N) #N es el número de muestras aleatorias que tomará\n",
    "\n",
    "def func_integrate(x):\n",
    "    return np.exp(-x)*np.sin(x)\n",
    "\n",
    "fi = func_integrate(x)\n",
    "I = (b-a)*sum(fi)/N\n",
    "Iteo = 0.5*(1+np.exp(-np.pi))\n",
    "print(f'El valor teórico es: {Iteo:.6f} y valor utilizando Monte Carlo es {I:.6f}, con un error porcentual de: {np.abs(1-I/Iteo): .6%}')\n",
    "\n",
    "def error(n):\n",
    "    return np.abs(1-((np.pi-0)*sum(fi)/n)/(Iteo))\n",
    "\n",
    "def cota(n):\n",
    "    return 1/(n**1/2)\n",
    "\n",
    "n = np.linspace(1, 1000000, 1000000)\n",
    "Error = error(n)\n",
    "Cota = cota(n)\n",
    "fig, ax = plt.subplots()\n",
    "ax.plot(n, Error)\n",
    "ax.plot(n, Cota)\n",
    "plt.xlim(0,10000)\n",
    "plt.ylim(0,10000)\n",
    "\n"
   ]
  }
 ],
 "metadata": {
  "kernelspec": {
   "display_name": "Python 3",
   "language": "python",
   "name": "python3"
  },
  "language_info": {
   "codemirror_mode": {
    "name": "ipython",
    "version": 3
   },
   "file_extension": ".py",
   "mimetype": "text/x-python",
   "name": "python",
   "nbconvert_exporter": "python",
   "pygments_lexer": "ipython3",
   "version": "3.7.7"
  },
  "orig_nbformat": 4
 },
 "nbformat": 4,
 "nbformat_minor": 2
}
