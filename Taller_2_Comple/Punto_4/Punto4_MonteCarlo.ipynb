{
 "cells": [
  {
   "cell_type": "code",
   "execution_count": 3,
   "metadata": {},
   "outputs": [
    {
     "name": "stdout",
     "output_type": "stream",
     "text": [
      "El valor teórico es: 0.521607 y valor utilizando Monte Carlo es 0.521190, con un error porcentual de:  0.079871%\n"
     ]
    }
   ],
   "source": [
    "import numpy as np\n",
    "import matplotlib.pyplot as plt\n",
    "\n",
    "N = 1000000\n",
    "a = 0\n",
    "b = np.pi\n",
    "x = np.random.uniform(a,b,N) #N es el número de muestras aleatorias que tomará\n",
    "\n",
    "def func_integrate(x):\n",
    "    return np.exp(-x)*np.sin(x)\n",
    "\n",
    "fi = func_integrate(x)\n",
    "I = (b-a)*sum(fi)/N\n",
    "Iteo = 0.5*(1+np.exp(-np.pi))\n",
    "print(f'El valor teórico es: {Iteo:.6f} y valor utilizando Monte Carlo es {I:.6f}, con un error porcentual de: {np.abs(1-I/Iteo): .6%}')\n",
    "\n",
    "def error(n):\n",
    "    \"\"\"\n",
    "    Parámetros:\n",
    "    n = lista con la cantidad (números enteros) de muestras para el cálculo de la integral\n",
    "    Return:\n",
    "    Lista con el error porcentual correspondiente a cada cantidad\n",
    "    \"\"\"\n",
    "    return np.abs(1-((np.pi-0)*sum(fi)/n)/(Iteo))\n",
    "\n",
    "n = np.linspace(1, 1000000, 1000000) #Representa el número de muestras, desde 1 a 1000000\n",
    "Error = error(n) #Calcula el error porcentual para el número total de muestras desde 1 a 1000000\n",
    "fig, ax = plt.subplots()\n",
    "ax.plot(n, Error)\n",
    "plt.xlim(0,10000) #Ajusta la escala del eje x para que se aprecie mejor la curva \n",
    "plt.ylim(0,10000) #Ajusta la escala del eje y para que se aprecie mejor la curva\n",
    "\n"
   ]
  },
  {
   "cell_type": "code",
   "execution_count": 1,
   "metadata": {},
   "outputs": [
    {
     "name": "stdout",
     "output_type": "stream",
     "text": [
      "El valor teórico es: 0.521607 y valor utilizando Monte Carlo es 0.521544, con un error porcentual de:  0.012122%\n"
     ]
    },
    {
     "data": {
      "text/plain": [
       "(0.0, 10000.0)"
      ]
     },
     "execution_count": 1,
     "metadata": {},
     "output_type": "execute_result"
    },
    {
     "data": {
      "image/png": "[encoded data removed]",
      "text/plain": [
       "<Figure size 640x480 with 1 Axes>"
      ]
     },
     "metadata": {},
     "output_type": "display_data"
    }
   ],
   "source": [
    "import numpy as np\n",
    "import matplotlib.pyplot as plt\n",
    "\n",
    "N = 1000000\n",
    "a = 0\n",
    "b = np.pi\n",
    "x = np.random.uniform(a,b,N) #N es el número de muestras aleatorias que tomará\n",
    "\n",
    "def func_integrate(x):\n",
    "    return np.exp(-x)*np.sin(x)\n",
    "\n",
    "fi = func_integrate(x)\n",
    "I = (b-a)*sum(fi)/N\n",
    "Iteo = 0.5*(1+np.exp(-np.pi))\n",
    "print(f'El valor teórico es: {Iteo:.6f} y valor utilizando Monte Carlo es {I:.6f}, con un error porcentual de: {np.abs(1-I/Iteo): .6%}')\n",
    "\n",
    "def error(n):\n",
    "    return np.abs(1-((np.pi-0)*sum(fi)/n)/(Iteo))\n",
    "\n",
    "def cota(n):\n",
    "    return 1/(n**1/2)\n",
    "\n",
    "n = np.linspace(1, 1000000, 1000000)\n",
    "Error = error(n)\n",
    "Cota = cota(n)\n",
    "fig, ax = plt.subplots()\n",
    "ax.plot(n, Error)\n",
    "ax.plot(n, Cota)\n",
    "plt.xlim(0,10000)\n",
    "plt.ylim(0,10000)\n",
    "\n"
   ]
  },
  {
   "cell_type": "code",
   "execution_count": 6,
   "metadata": {},
   "outputs": [
    {
     "name": "stdout",
     "output_type": "stream",
     "text": [
      "La tasa de producción de neutrones aproximada es de: 4.809189745639082\n"
     ]
    }
   ],
   "source": [
    "import numpy as np\n",
    "import matplotlib.pyplot as plt\n",
    "\n",
    "R = 1\n",
    "N = 10000\n",
    "x = np.random.uniform(-R,R,N)\n",
    "y = np.random.uniform(-R,R,N)\n",
    "z = np.random.uniform(-R,R,N)\n",
    "suma = 0\n",
    "\n",
    "def funcionIntegrar(x,y,z): #función de interés para integrar\n",
    "    return np.sin(x**2+y**2+z**2)*(np.e**(x**2+y**2+z**2))\n",
    "\n",
    "for i in range(N):\n",
    "    if x[i]**2+y[i]**2+z[i]**2<R**2: #Condiciónd de contenencia en la esfera de radio R (en este caso 1)\n",
    "        suma += funcionIntegrar(x[i],y[i],z[i]) #Adiciona el valor correspondiente de la función de interés evaluada en los puntos que cumplen\n",
    "                                                #la condición de contenencia en la esfera\n",
    "\n",
    "Integral = ((2*R)**3)*(suma/N)\n",
    "print(\"La tasa de producción de neutrones aproximada es de: \"+str(Integral)+\" m^3 (no sé si sea la unidad correcta)\")\n",
    "        \n",
    "\n",
    "\n",
    "\n",
    "\n",
    "\n"
   ]
  }
 ],
 "metadata": {
  "kernelspec": {
   "display_name": "Python 3",
   "language": "python",
   "name": "python3"
  },
  "language_info": {
   "codemirror_mode": {
    "name": "ipython",
    "version": 3
   },
   "file_extension": ".py",
   "mimetype": "text/x-python",
   "name": "python",
   "nbconvert_exporter": "python",
   "pygments_lexer": "ipython3",
   "version": "3.7.7"
  },
  "orig_nbformat": 4
 },
 "nbformat": 4,
 "nbformat_minor": 2
}
