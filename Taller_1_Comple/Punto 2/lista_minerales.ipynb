{
 "cells": [
  {
   "cell_type": "code",
   "execution_count": 4,
   "metadata": {},
   "outputs": [
    {
     "name": "stdout",
     "output_type": "stream",
     "text": [
      "3467.690625\n"
     ]
    }
   ],
   "source": [
    "import numpy as np\n",
    "\n",
    "\n",
    "archivo = 'minerales.txt'\n",
    "datos_por_fila = {}\n",
    "\n",
    "with open(archivo, 'r', encoding='utf-8') as fi:\n",
    "    for i, linea in enumerate(fi, start=1):\n",
    "        \n",
    "        datos = linea.strip().split('\\t')\n",
    "        \n",
    "\n",
    "        datos_por_fila[i] = datos\n",
    "\n",
    "import mineral as mi\n",
    "from mineral import Mineral\n",
    "\n",
    "\n",
    "\n",
    "def crear_objetos (datos):\n",
    "    objetos_minerales=np.array([])\n",
    "    for i in range (1,len(datos)):\n",
    "        mineral_i=Mineral(datos[i][0],datos[i][1],datos[i][2],datos[i][3],datos[i][4],datos[i][5],datos[i][6],datos[i][7],)\n",
    "        if mineral_i not in objetos_minerales:\n",
    "            objetos_minerales=np.append(objetos_minerales,mineral_i)\n",
    "        else:\n",
    "            objetos_minerales=objetos_minerales\n",
    "\n",
    "    return objetos_minerales\n",
    "\n",
    "def numero_silicatos (objetos):\n",
    "    objects=crear_objetos(objetos)\n",
    "    numero=0\n",
    "    for i in objects:\n",
    "        if i.silicato()==True:\n",
    "            numero+=1\n",
    "    return numero\n",
    "def densidad_promedio (objetos):\n",
    "    objects=crear_objetos(objetos)\n",
    "    objects_1=objects[1:]\n",
    "    densidad=[]\n",
    "    for i in objects_1:\n",
    "        densidad.append(i.densidad())\n",
    "\n",
    "    \n",
    "    return np.mean(densidad)\n",
    "\n",
    "\n",
    "\n",
    "\n",
    "\n",
    "\n",
    "\n"
   ]
  }
 ],
 "metadata": {
  "kernelspec": {
   "display_name": "Python 3",
   "language": "python",
   "name": "python3"
  },
  "language_info": {
   "codemirror_mode": {
    "name": "ipython",
    "version": 3
   },
   "file_extension": ".py",
   "mimetype": "text/x-python",
   "name": "python",
   "nbconvert_exporter": "python",
   "pygments_lexer": "ipython3",
   "version": "3.11.5"
  },
  "orig_nbformat": 4
 },
 "nbformat": 4,
 "nbformat_minor": 2
}
