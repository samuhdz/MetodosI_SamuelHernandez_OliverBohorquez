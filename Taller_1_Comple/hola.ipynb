{
 "cells": [
  {
   "cell_type": "code",
   "execution_count": 5,
   "metadata": {},
   "outputs": [],
   "source": [
    "import numpy as np\n",
    "import matplotlib.pyplot as plt\n",
    "import mineral as min \n",
    "from mineral import Mineral\n",
    "import csv as csv \n",
    "\n",
    "class ExpansionTermicaMineral (Mineral):\n",
    "    def __init__ (self, archivo):\n",
    "        self.archivo=archivo\n",
    "    def carga_datos (self):\n",
    "        Temp = []\n",
    "        Vol = []\n",
    "        \n",
    "        with open(self.archivo, 'r') as csv_file:\n",
    "            next(csv_file)\n",
    "            for linea in csv_file:\n",
    "                datos = linea.strip().split(',')\n",
    "                if len(datos) >= 2:\n",
    "                    Temp.append(datos[0].strip())  \n",
    "                    Vol.append(datos[1].strip())\n",
    "        x=np.array(Temp)\n",
    "        y=np.array(Vol)\n",
    "        return [x, y] \n",
    "    def alpha (self):\n",
    "        ejex=ExpansionTermicaMineral.carga_datos(self)[0]\n",
    "        y=ExpansionTermicaMineral.carga_datos(self)[1]\n",
    "        h=10e-3\n",
    "        derivada_central=np.array()\n",
    "        for i in y:\n",
    "            derivada=((i+h)-(i-h))/2*h \n",
    "\n",
    "\n",
    "\n",
    "                \n",
    "       \n",
    "\n",
    "\n",
    "        \n",
    "\n",
    "\n",
    "\n",
    "\n",
    "\n",
    "\n"
   ]
  }
 ],
 "metadata": {
  "kernelspec": {
   "display_name": "Python 3",
   "language": "python",
   "name": "python3"
  },
  "language_info": {
   "codemirror_mode": {
    "name": "ipython",
    "version": 3
   },
   "file_extension": ".py",
   "mimetype": "text/x-python",
   "name": "python",
   "nbconvert_exporter": "python",
   "pygments_lexer": "ipython3",
   "version": "3.11.5"
  },
  "orig_nbformat": 4
 },
 "nbformat": 4,
 "nbformat_minor": 2
}
