{
 "cells": [
  {
   "cell_type": "code",
   "execution_count": 47,
   "metadata": {},
   "outputs": [
    {
     "name": "stdout",
     "output_type": "stream",
     "text": [
      "['nombre', 'dureza', 'rompimiento_por_fractura', 'color', 'composicion', 'lustre', 'specific_gravity', 'sistema cristalino']\n"
     ]
    },
    {
     "ename": "NameError",
     "evalue": "name 'ilustre' is not defined",
     "output_type": "error",
     "traceback": [
      "\u001b[1;31m---------------------------------------------------------------------------\u001b[0m",
      "\u001b[1;31mNameError\u001b[0m                                 Traceback (most recent call last)",
      "Cell \u001b[1;32mIn[47], line 30\u001b[0m\n\u001b[0;32m     26\u001b[0m             objetos_minerales\u001b[39m=\u001b[39mobjetos_minerales\n\u001b[0;32m     28\u001b[0m     \u001b[39mreturn\u001b[39;00m objetos_minerales\n\u001b[1;32m---> 30\u001b[0m \u001b[39mprint\u001b[39m(crear_objetos(datos_por_fila))\n",
      "Cell \u001b[1;32mIn[47], line 22\u001b[0m, in \u001b[0;36mcrear_objetos\u001b[1;34m(datos)\u001b[0m\n\u001b[0;32m     20\u001b[0m \u001b[39mdef\u001b[39;00m \u001b[39mcrear_objetos\u001b[39m (datos):\n\u001b[0;32m     21\u001b[0m     \u001b[39mfor\u001b[39;00m i \u001b[39min\u001b[39;00m \u001b[39mrange\u001b[39m (\u001b[39m1\u001b[39m,\u001b[39mlen\u001b[39m(datos)):\n\u001b[1;32m---> 22\u001b[0m         carro_i\u001b[39m=\u001b[39mMineral(datos[i][\u001b[39m0\u001b[39;49m],datos[i][\u001b[39m1\u001b[39;49m],datos[i][\u001b[39m2\u001b[39;49m],datos[i][\u001b[39m3\u001b[39;49m],datos[i][\u001b[39m4\u001b[39;49m],datos[i][\u001b[39m5\u001b[39;49m],datos[i][\u001b[39m6\u001b[39;49m],datos[i][\u001b[39m7\u001b[39;49m],)\n\u001b[0;32m     23\u001b[0m         \u001b[39mif\u001b[39;00m carro_i \u001b[39mnot\u001b[39;00m \u001b[39min\u001b[39;00m objetos_minerales:\n\u001b[0;32m     24\u001b[0m             objetos_minerales\u001b[39m.\u001b[39mappend(carro_i)\n",
      "File \u001b[1;32mc:\\Users\\PC\\OneDrive\\Documentos\\Codes Metodos 1\\MetodosI_SamuelHernandez_OliverBohorquez\\Taller_1_Comple\\mineral.py:6\u001b[0m, in \u001b[0;36mMineral.__init__\u001b[1;34m(self, nombre, dureza, rompimiento_por_fractura, color, composicion, lustre, specific_gravity, sistema_cristalino)\u001b[0m\n\u001b[0;32m      4\u001b[0m \u001b[39mself\u001b[39m\u001b[39m.\u001b[39mnombre\u001b[39m=\u001b[39mnombre\n\u001b[0;32m      5\u001b[0m \u001b[39mself\u001b[39m\u001b[39m.\u001b[39mdureza\u001b[39m=\u001b[39mdureza\n\u001b[1;32m----> 6\u001b[0m \u001b[39mself\u001b[39m\u001b[39m.\u001b[39milustre\u001b[39m=\u001b[39milustre\n\u001b[0;32m      7\u001b[0m \u001b[39mself\u001b[39m\u001b[39m.\u001b[39mrompimiento_por_fractura\u001b[39m=\u001b[39mrompimiento_por_fractura\n\u001b[0;32m      8\u001b[0m \u001b[39mself\u001b[39m\u001b[39m.\u001b[39mcolor\u001b[39m=\u001b[39mcolor\n",
      "\u001b[1;31mNameError\u001b[0m: name 'ilustre' is not defined"
     ]
    }
   ],
   "source": [
    "import numpy as np\n",
    "\n",
    "archivo = 'minerales.txt'\n",
    "datos_por_fila = {}\n",
    "\n",
    "with open(archivo, 'r', encoding='utf-8') as fi:\n",
    "    for i, linea in enumerate(fi, start=1):\n",
    "        \n",
    "        datos = linea.strip().split('\\t')\n",
    "        \n",
    "\n",
    "        datos_por_fila[i] = datos\n",
    "\n",
    "print(datos_por_fila[1])\n",
    "\n",
    "import mineral as min \n",
    "from mineral import Mineral\n",
    "\n",
    "objetos_minerales=[]\n",
    "def crear_objetos (datos):\n",
    "    for i in range (1,len(datos)):\n",
    "        carro_i=Mineral(datos[i][0],datos[i][1],datos[i][2],datos[i][3],datos[i][4],datos[i][5],datos[i][6],datos[i][7],)\n",
    "        if carro_i not in objetos_minerales:\n",
    "            objetos_minerales.append(carro_i)\n",
    "        else:\n",
    "            objetos_minerales=objetos_minerales\n",
    "\n",
    "    return objetos_minerales\n",
    "\n",
    "print(crear_objetos(datos_por_fila))\n",
    "\n",
    "    \n"
   ]
  }
 ],
 "metadata": {
  "kernelspec": {
   "display_name": "Python 3",
   "language": "python",
   "name": "python3"
  },
  "language_info": {
   "codemirror_mode": {
    "name": "ipython",
    "version": 3
   },
   "file_extension": ".py",
   "mimetype": "text/x-python",
   "name": "python",
   "nbconvert_exporter": "python",
   "pygments_lexer": "ipython3",
   "version": "3.11.5"
  },
  "orig_nbformat": 4
 },
 "nbformat": 4,
 "nbformat_minor": 2
}
