{
 "cells": [
  {
   "cell_type": "code",
   "execution_count": 3,
   "metadata": {},
   "outputs": [],
   "source": [
    "import numpy as np\n",
    "import matplotlib.pyplot as plt\n",
    "\n",
    "class Mineral:\n",
    "    def __init__(self,nombre,dureza,rompimiento_por_fractura,color,composicion, lustre,specific_gravity, sistema_cristalino):\n",
    "        self.nombre=nombre\n",
    "        self.dureza=dureza\n",
    "        self.lustre=lustre\n",
    "        self.rompimiento_por_fractura=rompimiento_por_fractura\n",
    "        self.color=color\n",
    "        self.composicion=composicion\n",
    "        self.sistema_cristalino=sistema_cristalino\n",
    "        self.specific_gravity=specific_gravity\n",
    "    def silicato (self):\n",
    "        silicato=True\n",
    "        if \"Si\" in self.composicion and \"O\" in self.composicion:\n",
    "            silicato=True\n",
    "        else:\n",
    "            silicato=False\n",
    "        return silicato \n",
    "    def densidad (self):\n",
    "        return str((self.specific_gravity)*(997))+\"kg/m^3\"\n",
    "    def mostrar_color(self):\n",
    "         # Crear una figura y un eje\n",
    "        fig, ax = plt.subplots()\n",
    "\n",
    "        # Establecer el color de fondo\n",
    "        ax.set_facecolor(self.color)\n",
    "        ax.set_title('Color de'+self.nombre)\n",
    "        plt.show()\n",
    "    def es_por_fractura (self):\n",
    "        rompimiento=\" \"\n",
    "        if self.rompimiento_por_fractura==True:\n",
    "            rompimiento=\" por fractura\"\n",
    "        else:\n",
    "            rompimiento=\" no es por fractura\"\n",
    "        return rompimiento\n",
    "    def imprimir (self):\n",
    "        print(\"La dureza del material es:\"+ str(self.dureza)+  \" , su tipo de rompimiento es\" + self.es_por_fractura(self)+ \"y el sistema de los átomos es \"+ self.sistema_cristalino )\n"
   ]
  }
 ],
 "metadata": {
  "kernelspec": {
   "display_name": "Python 3",
   "language": "python",
   "name": "python3"
  },
  "language_info": {
   "codemirror_mode": {
    "name": "ipython",
    "version": 3
   },
   "file_extension": ".py",
   "mimetype": "text/x-python",
   "name": "python",
   "nbconvert_exporter": "python",
   "pygments_lexer": "ipython3",
   "version": "3.11.5"
  },
  "orig_nbformat": 4
 },
 "nbformat": 4,
 "nbformat_minor": 2
}
