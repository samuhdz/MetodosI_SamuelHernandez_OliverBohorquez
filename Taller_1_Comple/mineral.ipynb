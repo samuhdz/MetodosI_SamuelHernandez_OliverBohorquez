{
 "cells": [
  {
   "cell_type": "code",
   "execution_count": 2,
   "metadata": {},
   "outputs": [],
   "source": [
    "import numpy as np\n",
    "import matplotlib.pyplot as plt\n",
    "\n",
    "class Mineral:\n",
    "    def __init__(self,nombre,dureza,rompimiento_por_fractura,color,composicion, lustre,specific_gravity, sistema_cristalino):\n",
    "        self.nombre=nombre\n",
    "        self.dureza=dureza\n",
    "        self.lustre=lustre\n",
    "        self.rompimiento_por_fractura=rompimiento_por_fractura\n",
    "        self.color=color\n",
    "        self.composicion=composicion\n",
    "        self.sistema_cristalino=sistema_cristalino\n",
    "        self.specific_gravity=specific_gravity\n",
    "    def silicato (self):\n",
    "        silicato=True\n",
    "        if \"Si\" in self.composicion and \"O\" in self.composicion:\n",
    "            silicato=True\n",
    "        else:\n",
    "            silicato=False\n",
    "        return silicato \n",
    "    def densidad (self):\n",
    "        return float(self.specific_gravity)*(997)\n",
    "    def mostrar_color(self):\n",
    "         # Crear una figura y un eje\n",
    "        fig, ax = plt.subplots()\n",
    "\n",
    "        # Establecer el color de fondo\n",
    "        ax.set_facecolor(self.color)\n",
    "        ax.set_title('Color de'+self.nombre)\n",
    "        plt.show()\n",
    "    def es_por_fractura (self):\n",
    "        rompimiento=\" \"\n",
    "        if self.rompimiento_por_fractura==True:\n",
    "            rompimiento=\" por fractura\"\n",
    "        else:\n",
    "            rompimiento=\" no es por fractura\"\n",
    "        return rompimiento\n",
    "    def imprimir (self):\n",
    "        print(\"La dureza del material es:\"+ str(self.dureza)+  \" , su tipo de rompimiento es\" + self.es_por_fractura()+ \"y el sistema de los átomos es \"+ self.sistema_cristalino )\n"
   ]
  },
  {
   "cell_type": "code",
   "execution_count": 7,
   "metadata": {},
   "outputs": [
    {
     "ename": "NameError",
     "evalue": "name 'false' is not defined",
     "output_type": "error",
     "traceback": [
      "\u001b[1;31m---------------------------------------------------------------------------\u001b[0m",
      "\u001b[1;31mNameError\u001b[0m                                 Traceback (most recent call last)",
      "Cell \u001b[1;32mIn[7], line 1\u001b[0m\n\u001b[1;32m----> 1\u001b[0m a\u001b[39m=\u001b[39mMineral(\u001b[39m\"\u001b[39m\u001b[39mOro\u001b[39m\u001b[39m\"\u001b[39m,\u001b[39m3\u001b[39m, false, \u001b[39m\"\u001b[39m\u001b[39m#5f6168\u001b[39m\u001b[39m\"\u001b[39m, C, METÁLICO, \u001b[39m2.2\u001b[39m, HEXAGONAL)\n",
      "\u001b[1;31mNameError\u001b[0m: name 'false' is not defined"
     ]
    }
   ],
   "source": []
  }
 ],
 "metadata": {
  "kernelspec": {
   "display_name": "Python 3",
   "language": "python",
   "name": "python3"
  },
  "language_info": {
   "codemirror_mode": {
    "name": "ipython",
    "version": 3
   },
   "file_extension": ".py",
   "mimetype": "text/x-python",
   "name": "python",
   "nbconvert_exporter": "python",
   "pygments_lexer": "ipython3",
   "version": "3.11.5"
  },
  "orig_nbformat": 4
 },
 "nbformat": 4,
 "nbformat_minor": 2
}
