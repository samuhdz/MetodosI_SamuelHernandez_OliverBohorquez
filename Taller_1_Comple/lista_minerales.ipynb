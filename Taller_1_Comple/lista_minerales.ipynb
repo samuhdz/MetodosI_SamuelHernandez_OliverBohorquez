{
 "cells": [
  {
   "cell_type": "code",
   "execution_count": 20,
   "metadata": {},
   "outputs": [
    {
     "name": "stdout",
     "output_type": "stream",
     "text": [
      "[<mineral.Mineral object at 0x000002B02A722750>\n",
      " <mineral.Mineral object at 0x000002B02A76F610>\n",
      " <mineral.Mineral object at 0x000002B02A76D450>\n",
      " <mineral.Mineral object at 0x000002B02A76D390>\n",
      " <mineral.Mineral object at 0x000002B02A689110>\n",
      " <mineral.Mineral object at 0x000002B02A68BD90>\n",
      " <mineral.Mineral object at 0x000002B02A688590>\n",
      " <mineral.Mineral object at 0x000002B02A68A710>\n",
      " <mineral.Mineral object at 0x000002B02A68BA50>\n",
      " <mineral.Mineral object at 0x000002B02A68A790>\n",
      " <mineral.Mineral object at 0x000002B02A68A290>\n",
      " <mineral.Mineral object at 0x000002B02A68AFD0>\n",
      " <mineral.Mineral object at 0x000002B02A688E50>\n",
      " <mineral.Mineral object at 0x000002B02A689190>\n",
      " <mineral.Mineral object at 0x000002B02A68A150>\n",
      " <mineral.Mineral object at 0x000002B02A68B890>\n",
      " <mineral.Mineral object at 0x000002B02A689C10>]\n"
     ]
    },
    {
     "ename": "NameError",
     "evalue": "name 'es_por_fractura' is not defined",
     "output_type": "error",
     "traceback": [
      "\u001b[1;31m---------------------------------------------------------------------------\u001b[0m",
      "\u001b[1;31mNameError\u001b[0m                                 Traceback (most recent call last)",
      "Cell \u001b[1;32mIn[20], line 32\u001b[0m\n\u001b[0;32m     28\u001b[0m     \u001b[39mreturn\u001b[39;00m objetos_minerales\n\u001b[0;32m     30\u001b[0m \u001b[39mprint\u001b[39m(crear_objetos(datos_por_fila))\n\u001b[1;32m---> 32\u001b[0m \u001b[39mprint\u001b[39m(((crear_objetos(datos_por_fila))[\u001b[39m2\u001b[39;49m])\u001b[39m.\u001b[39;49mimprimir())\n\u001b[0;32m     34\u001b[0m \u001b[39mdef\u001b[39;00m \u001b[39mnumero_silicatos\u001b[39m (objetos):\n\u001b[0;32m     35\u001b[0m     objects\u001b[39m=\u001b[39mcrear_objetos(objetos)\n",
      "File \u001b[1;32mc:\\Users\\PC\\OneDrive\\Documentos\\Codes Metodos 1\\MetodosI_SamuelHernandez_OliverBohorquez\\Taller_1_Comple\\mineral.py:37\u001b[0m, in \u001b[0;36mMineral.imprimir\u001b[1;34m(self)\u001b[0m\n\u001b[0;32m     36\u001b[0m \u001b[39mdef\u001b[39;00m \u001b[39mimprimir\u001b[39m (\u001b[39mself\u001b[39m):\n\u001b[1;32m---> 37\u001b[0m     \u001b[39mprint\u001b[39m(\u001b[39m\"\u001b[39m\u001b[39mLa dureza del material es:\u001b[39m\u001b[39m\"\u001b[39m\u001b[39m+\u001b[39m \u001b[39mstr\u001b[39m(\u001b[39mself\u001b[39m\u001b[39m.\u001b[39mdureza)\u001b[39m+\u001b[39m  \u001b[39m\"\u001b[39m\u001b[39m , su tipo de rompimiento es\u001b[39m\u001b[39m\"\u001b[39m \u001b[39m+\u001b[39m fractura (\u001b[39mself\u001b[39m)\u001b[39m+\u001b[39m \u001b[39m\"\u001b[39m\u001b[39my el sistema de los átomos es \u001b[39m\u001b[39m\"\u001b[39m\u001b[39m+\u001b[39m \u001b[39mself\u001b[39m\u001b[39m.\u001b[39msistema_cristalino )\n",
      "\u001b[1;31mNameError\u001b[0m: name 'es_por_fractura' is not defined"
     ]
    }
   ],
   "source": [
    "import numpy as np\n",
    "\n",
    "\n",
    "archivo = 'minerales.txt'\n",
    "datos_por_fila = {}\n",
    "\n",
    "with open(archivo, 'r', encoding='utf-8') as fi:\n",
    "    for i, linea in enumerate(fi, start=1):\n",
    "        \n",
    "        datos = linea.strip().split('\\t')\n",
    "        \n",
    "\n",
    "        datos_por_fila[i] = datos\n",
    "\n",
    "import mineral as min \n",
    "from mineral import Mineral\n",
    "\n",
    "\n",
    "def crear_objetos (datos):\n",
    "    objetos_minerales=np.array([])\n",
    "    for i in range (1,len(datos)):\n",
    "        mineral_i=Mineral(datos[i][0],datos[i][1],datos[i][2],datos[i][3],datos[i][4],datos[i][5],datos[i][6],datos[i][7],)\n",
    "        if mineral_i not in objetos_minerales:\n",
    "            objetos_minerales=np.append(objetos_minerales,mineral_i)\n",
    "        else:\n",
    "            objetos_minerales=objetos_minerales\n",
    "\n",
    "    return objetos_minerales\n",
    "\n",
    "print(crear_objetos(datos_por_fila))\n",
    "\n",
    "print(((crear_objetos(datos_por_fila))[2]).imprimir())\n",
    "\n",
    "def numero_silicatos (objetos):\n",
    "    objects=crear_objetos(objetos)\n",
    "    numero=0\n",
    "    for i in crear_objetos(crear_objetos(objects)):\n",
    "        if i.silicato(self)==True:\n",
    "            numero+=1\n",
    "    return numero\n",
    "\n",
    "\n"
   ]
  }
 ],
 "metadata": {
  "kernelspec": {
   "display_name": "Python 3",
   "language": "python",
   "name": "python3"
  },
  "language_info": {
   "codemirror_mode": {
    "name": "ipython",
    "version": 3
   },
   "file_extension": ".py",
   "mimetype": "text/x-python",
   "name": "python",
   "nbconvert_exporter": "python",
   "pygments_lexer": "ipython3",
   "version": "3.11.5"
  },
  "orig_nbformat": 4
 },
 "nbformat": 4,
 "nbformat_minor": 2
}
