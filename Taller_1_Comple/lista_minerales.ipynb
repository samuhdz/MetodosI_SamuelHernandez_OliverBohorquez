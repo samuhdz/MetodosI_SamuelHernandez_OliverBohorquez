{
 "cells": [
  {
   "cell_type": "code",
   "execution_count": 5,
   "metadata": {},
   "outputs": [
    {
     "name": "stdout",
     "output_type": "stream",
     "text": [
      "[<mineral.Mineral object at 0x0000019FE1140410>\n",
      " <mineral.Mineral object at 0x0000019FE11425D0>\n",
      " <mineral.Mineral object at 0x0000019FE1143290>\n",
      " <mineral.Mineral object at 0x0000019FE11403D0>\n",
      " <mineral.Mineral object at 0x0000019FE1142850>\n",
      " <mineral.Mineral object at 0x0000019FE1140A90>\n",
      " <mineral.Mineral object at 0x0000019FE1141990>\n",
      " <mineral.Mineral object at 0x0000019FE1142C10>\n",
      " <mineral.Mineral object at 0x0000019FE11431D0>\n",
      " <mineral.Mineral object at 0x0000019FE1143890>\n",
      " <mineral.Mineral object at 0x0000019FE1140790>\n",
      " <mineral.Mineral object at 0x0000019FE1143550>\n",
      " <mineral.Mineral object at 0x0000019FE1140450>\n",
      " <mineral.Mineral object at 0x0000019FE1140B10>\n",
      " <mineral.Mineral object at 0x0000019FE1142B50>\n",
      " <mineral.Mineral object at 0x0000019FE11434D0>\n",
      " <mineral.Mineral object at 0x0000019FE11409D0>]\n",
      "17\n"
     ]
    }
   ],
   "source": [
    "import numpy as np\n",
    "\n",
    "archivo = 'minerales.txt'\n",
    "datos_por_fila = {}\n",
    "\n",
    "with open(archivo, 'r', encoding='utf-8') as fi:\n",
    "    for i, linea in enumerate(fi, start=1):\n",
    "        \n",
    "        datos = linea.strip().split('\\t')\n",
    "        \n",
    "\n",
    "        datos_por_fila[i] = datos\n",
    "\n",
    "import mineral as min \n",
    "from mineral import Mineral\n",
    "\n",
    "\n",
    "def crear_objetos (datos):\n",
    "    objetos_minerales=[]\n",
    "    for i in range (1,len(datos)):\n",
    "        mineral_i=Mineral(datos[i][0],datos[i][1],datos[i][2],datos[i][3],datos[i][4],datos[i][5],datos[i][6],datos[i][7],)\n",
    "        if mineral_i not in objetos_minerales:\n",
    "            objetos_minerales.append(mineral_i)\n",
    "        else:\n",
    "            objetos_minerales=objetos_minerales\n",
    "\n",
    "    return np.array(objetos_minerales)\n",
    "\n",
    "print(crear_objetos(datos_por_fila))\n",
    "\n",
    "i=0\n",
    "while i<len(crear_objetos(datos_por_fila)):\n",
    "    i+=1\n",
    "print(i)\n",
    "\n",
    "    \n"
   ]
  }
 ],
 "metadata": {
  "kernelspec": {
   "display_name": "Python 3",
   "language": "python",
   "name": "python3"
  },
  "language_info": {
   "codemirror_mode": {
    "name": "ipython",
    "version": 3
   },
   "file_extension": ".py",
   "mimetype": "text/x-python",
   "name": "python",
   "nbconvert_exporter": "python",
   "pygments_lexer": "ipython3",
   "version": "3.11.5"
  },
  "orig_nbformat": 4
 },
 "nbformat": 4,
 "nbformat_minor": 2
}
