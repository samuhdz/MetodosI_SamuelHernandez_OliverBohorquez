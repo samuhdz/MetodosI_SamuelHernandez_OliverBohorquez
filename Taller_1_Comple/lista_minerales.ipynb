{
 "cells": [
  {
   "cell_type": "code",
   "execution_count": 1,
   "metadata": {},
   "outputs": [
    {
     "name": "stdout",
     "output_type": "stream",
     "text": [
      "[<mineral.Mineral object at 0x000001F27E8C2C10>\n",
      " <mineral.Mineral object at 0x000001F27E484910>\n",
      " <mineral.Mineral object at 0x000001F27E93B710>\n",
      " <mineral.Mineral object at 0x000001F27E93BC90>\n",
      " <mineral.Mineral object at 0x000001F27E93B7D0>\n",
      " <mineral.Mineral object at 0x000001F27E93BD50>\n",
      " <mineral.Mineral object at 0x000001F27E93BD90>\n",
      " <mineral.Mineral object at 0x000001F27E93BDD0>\n",
      " <mineral.Mineral object at 0x000001F27E93BE10>\n",
      " <mineral.Mineral object at 0x000001F27E93B810>\n",
      " <mineral.Mineral object at 0x000001F27E93BE50>\n",
      " <mineral.Mineral object at 0x000001F27E93BE90>\n",
      " <mineral.Mineral object at 0x000001F27E93BED0>\n",
      " <mineral.Mineral object at 0x000001F27E93BF10>\n",
      " <mineral.Mineral object at 0x000001F27E93BF50>\n",
      " <mineral.Mineral object at 0x000001F27E93BF90>\n",
      " <mineral.Mineral object at 0x000001F27E93BFD0>]\n",
      "17\n"
     ]
    }
   ],
   "source": [
    "import numpy as np\n",
    "\n",
    "archivo = 'minerales.txt'\n",
    "datos_por_fila = {}\n",
    "\n",
    "with open(archivo, 'r', encoding='utf-8') as fi:\n",
    "    for i, linea in enumerate(fi, start=1):\n",
    "        \n",
    "        datos = linea.strip().split('\\t')\n",
    "        \n",
    "\n",
    "        datos_por_fila[i] = datos\n",
    "\n",
    "import mineral as min \n",
    "from mineral import Mineral\n",
    "\n",
    "\n",
    "def crear_objetos (datos):\n",
    "    objetos_minerales=[]\n",
    "    for i in range (1,len(datos)):\n",
    "        mineral_i=Mineral(datos[i][0],datos[i][1],datos[i][2],datos[i][3],datos[i][4],datos[i][5],datos[i][6],datos[i][7],)\n",
    "        if mineral_i not in objetos_minerales:\n",
    "            objetos_minerales.append(mineral_i)\n",
    "        else:\n",
    "            objetos_minerales=objetos_minerales\n",
    "\n",
    "    return np.array(objetos_minerales)\n",
    "\n",
    "print(crear_objetos(datos_por_fila))\n",
    "\n",
    "\n",
    "\n",
    "def numero_silicatos (objetos):\n",
    "    \n"
   ]
  }
 ],
 "metadata": {
  "kernelspec": {
   "display_name": "Python 3",
   "language": "python",
   "name": "python3"
  },
  "language_info": {
   "codemirror_mode": {
    "name": "ipython",
    "version": 3
   },
   "file_extension": ".py",
   "mimetype": "text/x-python",
   "name": "python",
   "nbconvert_exporter": "python",
   "pygments_lexer": "ipython3",
   "version": "3.11.5"
  },
  "orig_nbformat": 4
 },
 "nbformat": 4,
 "nbformat_minor": 2
}
