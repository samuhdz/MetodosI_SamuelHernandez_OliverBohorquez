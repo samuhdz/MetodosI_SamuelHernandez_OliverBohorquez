{
 "cells": [
  {
   "cell_type": "code",
   "execution_count": 2,
   "metadata": {},
   "outputs": [
    {
     "data": {
      "text/html": [
       "<style>.container { width:100% !important; }</style>"
      ],
      "text/plain": [
       "<IPython.core.display.HTML object>"
      ]
     },
     "metadata": {},
     "output_type": "display_data"
    }
   ],
   "source": [
    "from IPython.display import display, HTML\n",
    "display(HTML(\"<style>.container { width:100% !important; }</style>\"))\n",
    "import numpy as np\n",
    "import matplotlib.pyplot as plt\n",
    "from scipy import integrate\n",
    "\n",
    "class Integrator:\n",
    "    \n",
    "    def __init__(self,x,f):\n",
    "        \n",
    "        self.x = x\n",
    "        self.h = self.x[1] - self.x[0]\n",
    "        self.y = f(self.x)\n",
    "        \n",
    "        self.Integral = 0.\n",
    "\n",
    "class Simpson(Integrator):\n",
    "    \n",
    "    def __init__(self,x,f):\n",
    "        Integrator.__init__(self,x,f)\n",
    "        \n",
    "    def GetIntegral(self):\n",
    "        \n",
    "        self.Integral = 0.\n",
    "        \n",
    "        self.Integral += self.y[0] + self.y[-1]\n",
    "        \n",
    "        for i in range( len(self.y[1:-1]) ):\n",
    "            \n",
    "            if i%2 == 0:\n",
    "                self.Integral += 4*self.y[i+1]\n",
    "            else:\n",
    "                self.Integral += 2*self.y[i+1]\n",
    "          \n",
    "        return self.Integral*self.h/3\n",
    "    \n",
    "    def GetDerivative(self):\n",
    "        \n",
    "        d = f(self.x + 2*self.h) - 4*f(self.x + self.h) + 6*f(self.x) - 4*f(self.x - self.h) + f(self.x - 2*self.h)\n",
    "        d /= self.h**4\n",
    "        \n",
    "        \n",
    "        return d\n",
    "    \n",
    "    def GetError(self):\n",
    "        \n",
    "        d = self.GetDerivative()\n",
    "        max_ = np.max(np.abs(d))\n",
    "        \n",
    "        self.error = (self.x[-1]-self.x[0])*self.h**4*max_/180\n",
    "        \n",
    "        return self.error\n",
    "\n",
    "\n",
    "a = 0.01\n",
    "R = 0.5\n",
    "f = lambda x: (np.sqrt(a**2-x**2))/(R+x)\n",
    "N = 1000\n",
    "x = np.linspace(-a,a,N+1)\n",
    "\n",
    "Integrador = Simpson(x,f)"
   ]
  },
  {
   "cell_type": "code",
   "execution_count": 3,
   "metadata": {},
   "outputs": [
    {
     "name": "stdout",
     "output_type": "stream",
     "text": [
      "el valor de la integral es de: 0.0003141865779163094\n"
     ]
    }
   ],
   "source": [
    "Integrador = Simpson(x,f)\n",
    "valor_final = Integrador.GetIntegral()\n",
    "print(\"el valor de la integral es de: \" +str(valor_final))"
   ]
  }
 ],
 "metadata": {
  "kernelspec": {
   "display_name": "Python 3",
   "language": "python",
   "name": "python3"
  },
  "language_info": {
   "codemirror_mode": {
    "name": "ipython",
    "version": 3
   },
   "file_extension": ".py",
   "mimetype": "text/x-python",
   "name": "python",
   "nbconvert_exporter": "python",
   "pygments_lexer": "ipython3",
   "version": "3.7.7"
  },
  "orig_nbformat": 4
 },
 "nbformat": 4,
 "nbformat_minor": 2
}
