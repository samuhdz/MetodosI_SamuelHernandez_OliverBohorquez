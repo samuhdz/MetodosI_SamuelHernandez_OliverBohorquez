{
 "cells": [
  {
   "cell_type": "code",
   "execution_count": 4,
   "metadata": {},
   "outputs": [
    {
     "name": "stdout",
     "output_type": "stream",
     "text": [
      "el valor de su integral es de: 0.0003141903547714267\n"
     ]
    }
   ],
   "source": [
    "import numpy as np\n",
    "import matplotlib.pyplot as plt\n",
    "from scipy import integrate\n",
    "\n",
    "\n",
    "\n",
    "class Integrator:\n",
    "    \n",
    "    def __init__(self,x,f):\n",
    "        \n",
    "        self.x = x\n",
    "        self.h = self.x[1] - self.x[0]\n",
    "        self.y = f(self.x)\n",
    "        \n",
    "        self.Integral = 0.\n",
    "        \n",
    "    def GetIntegral(self):\n",
    "        \n",
    "        self.Integral += 0.5*(self.y[0]+self.y[-1])\n",
    "        \n",
    "        #self.Integral += np.sum( self.y[1:-1] )\n",
    "        \n",
    "        for i in range(1,self.y.shape[0]-1):\n",
    "            self.Integral += self.y[i]\n",
    "        \n",
    "        self.Integral *= self.h\n",
    "        \n",
    "        return self.Integral\n",
    "    \n",
    "\n",
    "def Function(x):\n",
    "    return (np.sqrt(0.01**2-x**2))/(0.5+x)\n",
    "\n",
    "a = 0.01\n",
    "x = np.linspace(-a,a,10000)\n",
    "y = Function(x)\n",
    "\n",
    "I = Integrator(x,Function)\n",
    "valor_final = I.GetIntegral()\n",
    "print(\"el valor de su integral es de: \" + str(valor_final))"
   ]
  },
  {
   "cell_type": "code",
   "execution_count": 5,
   "metadata": {},
   "outputs": [
    {
     "data": {
      "text/plain": [
       "0.0003141903547713392"
      ]
     },
     "execution_count": 5,
     "metadata": {},
     "output_type": "execute_result"
    }
   ],
   "source": [
    "integrate.trapezoid(Function(x),x)"
   ]
  }
 ],
 "metadata": {
  "kernelspec": {
   "display_name": "Python 3",
   "language": "python",
   "name": "python3"
  },
  "language_info": {
   "codemirror_mode": {
    "name": "ipython",
    "version": 3
   },
   "file_extension": ".py",
   "mimetype": "text/x-python",
   "name": "python",
   "nbconvert_exporter": "python",
   "pygments_lexer": "ipython3",
   "version": "3.7.7"
  },
  "orig_nbformat": 4
 },
 "nbformat": 4,
 "nbformat_minor": 2
}
