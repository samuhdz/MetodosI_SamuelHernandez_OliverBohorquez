{
 "cells": [
  {
   "cell_type": "code",
   "execution_count": 24,
   "metadata": {},
   "outputs": [
    {
     "name": "stdout",
     "output_type": "stream",
     "text": [
      "La raiz de la funcion es:  0.5661002240752279\n"
     ]
    }
   ],
   "source": [
    "import numpy as np\n",
    "import matplotlib.pyplot as plt\n",
    "\n",
    "def funcion (x):\n",
    "    return (np.e**-x)-x\n",
    "x=np.linspace(-10,10,100)\n",
    "\n",
    "\n",
    "def bolzano (f,x):\n",
    "    y=f(x)\n",
    "    respuesta = []\n",
    "    for i in range (len(y)-1):\n",
    "        if y[i]*y[i+1]<0:\n",
    "            respuesta.append(y[i])\n",
    "            respuesta.append(y[i+1])\n",
    "    return respuesta\n",
    "\n",
    "conj_soportex=np.array([0,1,0.5])\n",
    "conj_soportey=np.array([funcion(0), funcion(1), funcion(0.5)])\n",
    "\n",
    "\n",
    "def termino_nuevo (f,x_0,x_1,x_2):\n",
    "    dif_0=(f(x_1)-f(x_0))/(x_1-x_0)\n",
    "    dif_1=(f(x_2)-f(x_1))/(x_2-x_1)\n",
    "    dif_3=(dif_1-dif_0)/(x_2-x_0)\n",
    "    a=dif_3\n",
    "    b=dif_0-(x_0+x_1)*dif_3\n",
    "    c=f(x_0)-(x_0*dif_0)+(x_0*x_1*dif_3)\n",
    "    if b>0:\n",
    "        x_3=(-2*c)/(b+np.sqrt(b**2-(4*a*c)))\n",
    "    if b<0:\n",
    "        x_3=(-2*c)/(b-np.sqrt(b**2-(4*a*c)))\n",
    "\n",
    "    return x_3\n",
    "\n",
    "def raiz (f,x_0,x_1,x_2):\n",
    "    x_3=termino_nuevo(f,x_0,x_1,x_2)\n",
    "    while abs(f(x_3))<1e-10:\n",
    "        x_0=x_1\n",
    "        x_1=x_2\n",
    "        \n",
    "        x_2=x_3\n",
    "        x_3=termino_nuevo(f,x_0,x_1,x_2)\n",
    "    return x_3\n",
    "\n",
    "cero=(raiz(funcion,0, 1, 0.5))\n",
    "print(\"La raiz de la funcion es: \", str(cero))\n"
   ]
  }
 ],
 "metadata": {
  "kernelspec": {
   "display_name": "base",
   "language": "python",
   "name": "python3"
  },
  "language_info": {
   "codemirror_mode": {
    "name": "ipython",
    "version": 3
   },
   "file_extension": ".py",
   "mimetype": "text/x-python",
   "name": "python",
   "nbconvert_exporter": "python",
   "pygments_lexer": "ipython3",
   "version": "3.11.4"
  },
  "orig_nbformat": 4
 },
 "nbformat": 4,
 "nbformat_minor": 2
}
