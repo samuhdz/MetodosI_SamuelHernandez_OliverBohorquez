{
 "cells": [
  {
   "cell_type": "code",
   "execution_count": 1,
   "metadata": {},
   "outputs": [
    {
     "data": {
      "text/plain": [
       "array([[0, 1, 2, 3, 4]])"
      ]
     },
     "execution_count": 1,
     "metadata": {},
     "output_type": "execute_result"
    }
   ],
   "source": [
    "import numpy as np\n",
    "import matplotlib.pyplot as plt\n",
    "u=np.array([range(5)])\n",
    "u"
   ]
  },
  {
   "cell_type": "code",
   "execution_count": 56,
   "metadata": {},
   "outputs": [
    {
     "data": {
      "text/plain": [
       "0.1875"
      ]
     },
     "execution_count": 56,
     "metadata": {},
     "output_type": "execute_result"
    }
   ],
   "source": [
    "#Punto 1\n",
    "##Iteral 1\n",
    "def regla_producto_condicionada(esp_iniciales, cartas_restantes):\n",
    "    \n",
    "\n",
    "   \n",
    "    P_esp_iniciales = 1.0\n",
    "    for i in range(esp_iniciales):\n",
    "        P_esp_iniciales*=(13-i)/(52-i)\n",
    "      \n",
    "        it=i \n",
    "        \n",
    "\n",
    "\n",
    "    P_n_restantes = 1.0\n",
    "    for j in range(1,cartas_restantes+1):\n",
    "        \n",
    "        P_n_restantes *= (13-it-j) / (52-it-j)\n",
    "        \n",
    "\n",
    "    \n",
    "    return P_n_restantes\n",
    "inciso_a=regla_producto_condicionada(2,3)\n",
    "inciso_b=regla_producto_condicionada(3,2)\n",
    "inciso_c=regla_producto_condicionada(4,1)\n",
    "inciso_a\n",
    "##Iteral 2\n",
    "\n"
   ]
  },
  {
   "cell_type": "code",
   "execution_count": 84,
   "metadata": {},
   "outputs": [
    {
     "name": "stdout",
     "output_type": "stream",
     "text": [
      "0.36787944117144233\n",
      "0.36787944117144233\n",
      "0.18393972058572117\n",
      "0.06131324019524039\n",
      "0.015328310048810098\n"
     ]
    },
    {
     "data": {
      "text/plain": [
       "5"
      ]
     },
     "execution_count": 84,
     "metadata": {},
     "output_type": "execute_result"
    },
    {
     "data": {
      "image/png": "[encoded data removed]",
      "text/plain": [
       "<Figure size 640x480 with 1 Axes>"
      ]
     },
     "metadata": {},
     "output_type": "display_data"
    }
   ],
   "source": [
    "\n",
    "#Punto 2\n",
    "##Inciso a)\n",
    "x=np.linspace(0,1,50)\n",
    "def prob_binomial(N,w,a,x):\n",
    "    h=0\n",
    "    prob=np.array([])\n",
    "    \n",
    "    for i in range(N):\n",
    "        muestra=np.random.binomial(n=w,p=x[i],size=10000) \n",
    "        \n",
    "        for j in range(10000):\n",
    "            if muestra[j]<=a:\n",
    "                h+=1\n",
    "        prob=np.append(prob,(h/10000))\n",
    "        h=0\n",
    "    return prob\n",
    "\n",
    "aceptacion_5=prob_binomial(50,5,1,x) \n",
    "aceptacion_25=prob_binomial(50,25,5,x)\n",
    "plt.plot(x,aceptacion_5)\n",
    "plt.plot(x,aceptacion_25)\n",
    "plt.show\n",
    "#Notemos que para p entre 0 y 0.3, la curva naranja está por encima, de modo que al comprador le sirve más el segundo plan\n",
    "#Por otro lado, para el otro caso, la curva azul está por encima, de modo que al vendedor le sirve más el primer plan\n",
    "\n",
    "#Inciso b)\n",
    "#a)\n",
    "def menor(N):\n",
    "    menor = N + 1  \n",
    "    for i in range(N + 1):\n",
    "        proba_m = (np.exp(-1) * (1 ** i)) / np.math.factorial(i)\n",
    "\n",
    "        if proba_m <= 0.01:\n",
    "            menor = i\n",
    "            break  \n",
    "\n",
    "        print(proba_m)\n",
    "\n",
    "    return menor\n",
    "\n"
   ]
  },
  {
   "cell_type": "code",
   "execution_count": 7,
   "metadata": {},
   "outputs": [],
   "source": [
    "\n",
    "uwu=np.random.poisson(lam=5,size=50) "
   ]
  }
 ],
 "metadata": {
  "kernelspec": {
   "display_name": "base",
   "language": "python",
   "name": "python3"
  },
  "language_info": {
   "codemirror_mode": {
    "name": "ipython",
    "version": 3
   },
   "file_extension": ".py",
   "mimetype": "text/x-python",
   "name": "python",
   "nbconvert_exporter": "python",
   "pygments_lexer": "ipython3",
   "version": "3.11.4"
  }
 },
 "nbformat": 4,
 "nbformat_minor": 2
}
