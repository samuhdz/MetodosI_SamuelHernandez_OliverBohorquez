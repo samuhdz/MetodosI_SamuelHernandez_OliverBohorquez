{
 "cells": [
  {
   "cell_type": "code",
   "execution_count": 41,
   "metadata": {},
   "outputs": [
    {
     "name": "stderr",
     "output_type": "stream",
     "text": [
      "C:\\Users\\PC\\AppData\\Local\\Temp\\ipykernel_14124\\1162273677.py:2: DeprecationWarning: `np.math` is a deprecated alias for the standard library `math` module (Deprecated Numpy 1.25). Replace usages of `np.math` with `math`\n",
      "  from numpy import math\n"
     ]
    }
   ],
   "source": [
    "import numpy as np\n",
    "from numpy import math\n",
    "import matplotlib.pyplot as plt\n"
   ]
  },
  {
   "cell_type": "code",
   "execution_count": 42,
   "metadata": {},
   "outputs": [
    {
     "data": {
      "text/plain": [
       "0.008418367346938776"
      ]
     },
     "execution_count": 42,
     "metadata": {},
     "output_type": "execute_result"
    }
   ],
   "source": [
    "#Punto 1\n",
    "##Iteral 1\n",
    "def regla_producto_condicionada(esp_iniciales, cartas_restantes):\n",
    "    \n",
    "\n",
    "   \n",
    "    P_esp_iniciales = 1.0\n",
    "    for i in range(esp_iniciales):\n",
    "        P_esp_iniciales*=(13-i)/(52-i)\n",
    "      \n",
    "        it=i \n",
    "        \n",
    "\n",
    "\n",
    "    P_n_restantes = 1.0\n",
    "    for j in range(1,cartas_restantes+1):\n",
    "        \n",
    "        P_n_restantes *= (13-it-j) / (52-it-j)\n",
    "        \n",
    "\n",
    "    \n",
    "    return P_n_restantes\n",
    "inciso_a=regla_producto_condicionada(2,3)\n",
    "inciso_b=regla_producto_condicionada(3,2)\n",
    "inciso_c=regla_producto_condicionada(4,1)\n",
    "inciso_a\n",
    "##Iteral 2\n",
    "\n"
   ]
  },
  {
   "cell_type": "code",
   "execution_count": 62,
   "metadata": {},
   "outputs": [
    {
     "data": {
      "text/plain": [
       "0.22635"
      ]
     },
     "execution_count": 62,
     "metadata": {},
     "output_type": "execute_result"
    },
    {
     "data": {
      "image/png": "[encoded data removed]",
      "text/plain": [
       "<Figure size 640x480 with 1 Axes>"
      ]
     },
     "metadata": {},
     "output_type": "display_data"
    },
    {
     "ename": "",
     "evalue": "",
     "output_type": "error",
     "traceback": [
      "\u001b[1;31mThe Kernel crashed while executing code in the the current cell or a previous cell. Please review the code in the cell(s) to identify a possible cause of the failure. Click <a href='https://aka.ms/vscodeJupyterKernelCrash'>here</a> for more info. View Jupyter <a href='command:jupyter.viewOutput'>log</a> for further details."
     ]
    }
   ],
   "source": [
    "\n",
    "#Punto 2\n",
    "##Inciso a)\n",
    "x=np.linspace(0,1,50)\n",
    "def prob_binomial(N,w,a,x):\n",
    "    h=0\n",
    "    prob=np.array([])\n",
    "    \n",
    "    for i in range(N):\n",
    "        muestra=np.random.binomial(n=w,p=x[i],size=10000) \n",
    "        \n",
    "        for j in range(10000):\n",
    "            if muestra[j]<=a:\n",
    "                h+=1\n",
    "        prob=np.append(prob,(h/10000))\n",
    "        h=0\n",
    "    return prob\n",
    "\n",
    "aceptacion_5=prob_binomial(50,5,1,x) \n",
    "aceptacion_25=prob_binomial(50,25,5,x)\n",
    "plt.plot(x,aceptacion_5)\n",
    "plt.plot(x,aceptacion_25)\n",
    "plt.show\n",
    "#Notemos que para p entre 0 y 0.3, la curva naranja está por encima, de modo que al comprador le sirve más el segundo plan\n",
    "#Por otro lado, para el otro caso, la curva azul está por encima, de modo que al vendedor le sirve más el primer plan\n",
    "\n",
    "##Inciso b)\n",
    "####a)\n",
    "def menor_n(N):\n",
    "    menor = N + 1  \n",
    "    for i in range(N + 1):\n",
    "        proba_m = (np.exp(-1) * (1 ** i)) / math.factorial(i)\n",
    "\n",
    "        if proba_m <= 0.01:\n",
    "            menor = i\n",
    "            break  \n",
    "\n",
    "        \n",
    "\n",
    "    return menor\n",
    "menor_n=menor_n(50)\n",
    "menor_n\n",
    "###b)\n",
    "def menor_h(N):\n",
    "    menor = N + 1\n",
    "    for h in range(N + 1):\n",
    "        # Como queremos cero desconexiones, en la expresión de Poisson tendríamos x=0.\n",
    "        # Y como lo queremos en h horas, entonces tomamos lambda=1/4 y lo multiplicamos por h.\n",
    "        prob_cero_h = np.exp(-(h/4))\n",
    "        if prob_cero_h <= 0.02:\n",
    "            menor = h\n",
    "            break \n",
    "    return menor\n",
    "menor_cantidad_horas=menor_h(20)\n",
    "menor_cantidad_horas\n",
    "###c) \n",
    "#Notemos que la pregunta es de distribución de probabilidad bionomial. Es como responder, \\\n",
    "# De tres expreimentos con probabilidad p de ser exitosos, ¿cual es la probabilidad de que al menos uno lo sea?\n",
    "poisson_cero=np.exp(-1)\n",
    "def binomial (n,p,x):\n",
    "    comb=math.factorial(n)/(math.factorial(x)*math.factorial(n-x))\n",
    "    return comb*(p**x)*(1-p)**(n-x)\n",
    "probabilidad_buscada=binomial(3,poisson_cero,1)\n",
    "probabilidad_buscada\n",
    "###d) \n",
    "def muestreo_poisson (N):\n",
    "    muestreo=np.random.poisson(lam=N/4,size=100000) \n",
    "    contador=0\n",
    "    for i in muestreo:\n",
    "        if i==N/4:\n",
    "            contador+=1\n",
    "        probabilidad=contador/100000\n",
    "    return probabilidad\n",
    "proba=muestreo_poisson(12) \n",
    "proba\n",
    "\n",
    "\n"
   ]
  },
  {
   "cell_type": "code",
   "execution_count": 44,
   "metadata": {},
   "outputs": [],
   "source": [
    "\n",
    "uwu=np.random.poisson(lam=5,size=50) "
   ]
  }
 ],
 "metadata": {
  "kernelspec": {
   "display_name": "base",
   "language": "python",
   "name": "python3"
  },
  "language_info": {
   "codemirror_mode": {
    "name": "ipython",
    "version": 3
   },
   "file_extension": ".py",
   "mimetype": "text/x-python",
   "name": "python",
   "nbconvert_exporter": "python",
   "pygments_lexer": "ipython3",
   "version": "3.11.6"
  }
 },
 "nbformat": 4,
 "nbformat_minor": 2
}
