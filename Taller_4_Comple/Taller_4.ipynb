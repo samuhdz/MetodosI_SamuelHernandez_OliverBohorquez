{
 "cells": [
  {
   "cell_type": "code",
   "execution_count": 71,
   "metadata": {},
   "outputs": [],
   "source": [
    "import numpy as np\n",
    "import sympy as sym\n",
    "from numpy import math\n",
    "import matplotlib.pyplot as plt\n"
   ]
  },
  {
   "cell_type": "code",
   "execution_count": 72,
   "metadata": {},
   "outputs": [
    {
     "data": {
      "text/plain": [
       "0.008418367346938776"
      ]
     },
     "execution_count": 72,
     "metadata": {},
     "output_type": "execute_result"
    }
   ],
   "source": [
    "#Punto 1\n",
    "##Iteral 1\n",
    "def regla_producto_condicionada(esp_iniciales, cartas_restantes):\n",
    "    \n",
    "\n",
    "   \n",
    "    P_esp_iniciales = 1.0\n",
    "    for i in range(esp_iniciales):\n",
    "        P_esp_iniciales*=(13-i)/(52-i)\n",
    "      \n",
    "        it=i \n",
    "        \n",
    "\n",
    "\n",
    "    P_n_restantes = 1.0\n",
    "    for j in range(1,cartas_restantes+1):\n",
    "        \n",
    "        P_n_restantes *= (13-it-j) / (52-it-j)\n",
    "        \n",
    "\n",
    "    \n",
    "    return P_n_restantes\n",
    "inciso_a=regla_producto_condicionada(2,3)\n",
    "inciso_b=regla_producto_condicionada(3,2)\n",
    "inciso_c=regla_producto_condicionada(4,1)\n",
    "inciso_a\n",
    "##Iteral 2\n",
    "\n"
   ]
  },
  {
   "cell_type": "code",
   "execution_count": 73,
   "metadata": {},
   "outputs": [
    {
     "data": {
      "text/plain": [
       "0.22457"
      ]
     },
     "execution_count": 73,
     "metadata": {},
     "output_type": "execute_result"
    },
    {
     "data": {
      "image/png": "[encoded data removed]",
      "text/plain": [
       "<Figure size 640x480 with 1 Axes>"
      ]
     },
     "metadata": {},
     "output_type": "display_data"
    }
   ],
   "source": [
    "\n",
    "#Punto 2\n",
    "##Inciso a)\n",
    "x=np.linspace(0,1,50)\n",
    "def prob_binomial(N,w,a,x):\n",
    "    h=0\n",
    "    prob=np.array([])\n",
    "    \n",
    "    for i in range(N):\n",
    "        muestra=np.random.binomial(n=w,p=x[i],size=10000) \n",
    "        \n",
    "        for j in range(10000):\n",
    "            if muestra[j]<=a:\n",
    "                h+=1\n",
    "        prob=np.append(prob,(h/10000))\n",
    "        h=0\n",
    "    return prob\n",
    "\n",
    "aceptacion_5=prob_binomial(50,5,1,x) \n",
    "aceptacion_25=prob_binomial(50,25,5,x)\n",
    "plt.plot(x,aceptacion_5)\n",
    "plt.plot(x,aceptacion_25)\n",
    "plt.show\n",
    "#Notemos que para p entre 0 y 0.3, la curva naranja está por encima, de modo que al comprador le sirve más el segundo plan\n",
    "#Por otro lado, para el otro caso, la curva azul está por encima, de modo que al vendedor le sirve más el primer plan\n",
    "\n",
    "##Inciso b)\n",
    "####a)\n",
    "def menor_n(N):\n",
    "    menor = N + 1  \n",
    "    for i in range(N + 1):\n",
    "        proba_m = (np.exp(-1) * (1 ** i)) / math.factorial(i)\n",
    "\n",
    "        if proba_m <= 0.01:\n",
    "            menor = i\n",
    "            break  \n",
    "\n",
    "        \n",
    "\n",
    "    return menor\n",
    "menor_n=menor_n(50)\n",
    "menor_n\n",
    "###b)\n",
    "def menor_h(N):\n",
    "    menor = N + 1\n",
    "    for h in range(N + 1):\n",
    "        # Como queremos cero desconexiones, en la expresión de Poisson tendríamos x=0.\n",
    "        # Y como lo queremos en h horas, entonces tomamos lambda=1/4 y lo multiplicamos por h.\n",
    "        prob_cero_h = np.exp(-(h/4))\n",
    "        if prob_cero_h <= 0.02:\n",
    "            menor = h\n",
    "            break \n",
    "    return menor\n",
    "menor_cantidad_horas=menor_h(20)\n",
    "menor_cantidad_horas\n",
    "###c) \n",
    "#Notemos que la pregunta es de distribución de probabilidad bionomial. Es como responder, \\\n",
    "# De tres expreimentos con probabilidad p de ser exitosos, ¿cual es la probabilidad de que al menos uno lo sea?\n",
    "poisson_cero=np.exp(-1)\n",
    "def binomial (n,p,x):\n",
    "    comb=math.factorial(n)/(math.factorial(x)*math.factorial(n-x))\n",
    "    return comb*(p**x)*(1-p)**(n-x)\n",
    "probabilidad_buscada=binomial(3,poisson_cero,1)\n",
    "probabilidad_buscada\n",
    "###d) \n",
    "def muestreo_poisson (N):\n",
    "    muestreo=np.random.poisson(lam=N/4,size=100000) \n",
    "    contador=0\n",
    "    for i in muestreo:\n",
    "        if i==N/4:\n",
    "            contador+=1\n",
    "        probabilidad=contador/100000\n",
    "    return probabilidad\n",
    "proba=muestreo_poisson(12) \n",
    "proba\n",
    "\n",
    "\n"
   ]
  },
  {
   "cell_type": "code",
   "execution_count": 79,
   "metadata": {},
   "outputs": [
    {
     "name": "stdout",
     "output_type": "stream",
     "text": [
      "0.16287302649863*sqrt(2)\n"
     ]
    }
   ],
   "source": [
    "#Punto 3\n",
    "##Iteral 2\n",
    "###Inciso a)\n",
    "x = sym.Symbol('x', real=True)\n",
    "miu = 78\n",
    "sigma = 6\n",
    "\n",
    "def distribucion_normal(x, miu, sigma):\n",
    "    return (1/(sigma*sym.sqrt(2*sym.pi))) * sym.exp(-((x-miu)**2)/(2*(sigma**2)))\n",
    "\n",
    "\n",
    "integral_resultado_e = sym.integrate(distribucion_normal(x, miu, sigma), (x, 72, sym.oo))\n",
    "integral_resultado=integral_resultado_e.evalf() \n",
    "integral_resultado\n",
    "\n",
    "###Incisos b) y c)\n",
    "#Asumamos que las notas van de 0 a 100\n",
    "\n",
    "def contar_digitos_distintos_de_cero(numero):\n",
    "    \n",
    "    numero_str = str(numero)\n",
    "\n",
    "   \n",
    "    digitos_distintos_de_cero = [digito for digito in numero_str if digito != '0']\n",
    "\n",
    "\n",
    "    cantidad = len(set(digitos_distintos_de_cero))\n",
    "\n",
    "    return cantidad\n",
    "\n",
    "def probabilidad_superior(y):\n",
    "    return sym.integrate(distribucion_normal(x,miu,sigma), (x, y, sym.oo))\n",
    "\n",
    "def hallar_limite(ptaje):\n",
    "    n=contar_digitos_distintos_de_cero(ptaje)\n",
    "    x_valores = np.linspace(78, 100, 1000)\n",
    "    limite_calificacion = 100  \n",
    "\n",
    "    for i in x_valores:\n",
    "        prob = probabilidad_superior(i).evalf()\n",
    "        print(prob)\n",
    "        if round(prob, n) <= ptaje:\n",
    "            limite_calificacion = i\n",
    "            break  \n",
    "\n",
    "    return limite_calificacion\n",
    "\n",
    "buscado_b = hallar_limite(0.1)\n",
    "buscado_c=hallar_limite(0.231)\n",
    "(buscado_b,buscado_c) \n",
    "\n"
   ]
  },
  {
   "cell_type": "code",
   "execution_count": null,
   "metadata": {},
   "outputs": [],
   "source": [
    "\n",
    "uwu=np.random.poisson(lam=5,size=50) "
   ]
  }
 ],
 "metadata": {
  "kernelspec": {
   "display_name": "base",
   "language": "python",
   "name": "python3"
  },
  "language_info": {
   "codemirror_mode": {
    "name": "ipython",
    "version": 3
   },
   "file_extension": ".py",
   "mimetype": "text/x-python",
   "name": "python",
   "nbconvert_exporter": "python",
   "pygments_lexer": "ipython3",
   "version": "3.11.4"
  }
 },
 "nbformat": 4,
 "nbformat_minor": 2
}
