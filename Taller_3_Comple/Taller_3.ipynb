{
 "cells": [
  {
   "cell_type": "code",
   "execution_count": 1,
   "metadata": {},
   "outputs": [
    {
     "name": "stdout",
     "output_type": "stream",
     "text": [
      "Note que en el caso de la operación de matrices c se tiene que M1 por M2 es:  [[  12.   37.   47.   25.   13.]\n",
      " [   2.   37. -123.  -46.  -93.]\n",
      " [   1.    1.   19.   54.   20.]\n",
      " [  13.   27.  -79.   -1.  -46.]]  pero M2 por M1 no se puede realizar.Por lo tanto, la multiplicación de matrices no es conmutativa en general.\n"
     ]
    },
    {
     "data": {
      "text/plain": [
       "array([-0.39473684,  0.71052632, -0.31578947])"
      ]
     },
     "execution_count": 1,
     "metadata": {},
     "output_type": "execute_result"
    }
   ],
   "source": [
    "import numpy as np\n",
    "import sympy as sym\n",
    "import matplotlib.pyplot as plt\n",
    "import copy \n",
    "#PUNTO A\n",
    "def columnas (A,n):\n",
    "    vector=np.array([])\n",
    "    if n<=np.shape(A)[1]:\n",
    "        for i in range(0,np.shape(A)[0]):\n",
    "            vector=np.append(vector,A[i][n])\n",
    "    else:\n",
    "        \"La columna indicada sobrepasa el índice de columnas de la matriz\"\n",
    "    return vector\n",
    "\n",
    "\n",
    "                   \n",
    "def multiplicador_matrices (A,B):\n",
    "    dim_A=np.shape(A)\n",
    "    dim_B=np.shape(B)\n",
    "    matriz_multi=np.zeros(shape= (dim_A[0],dim_B[1]))\n",
    "    if dim_A[1]==dim_B[0]:\n",
    "        for i in range(0,np.shape(A)[0]) :\n",
    "            for j in range(0,np.shape(B)[1]):\n",
    "                matriz_multi[i][j]=np.dot(A[i],columnas(B,j))\n",
    "    else:\n",
    "        return (\"Las matrices no se pueden multiplicar, maestro\")\n",
    "\n",
    "    return matriz_multi\n",
    "Matriz_a=np.array([[5,-4,-2],[5,-5,4],[2,5,-4],[-5,4,3],[3,-4,-3]])\n",
    "Vector_a=np.array([[5],[-2],[-3]])\n",
    "Matriz_b1=np.array([[0,-1,-1,3],[5,-5,-2,2],[1,0,4,5]])\n",
    "Matriz_b2=np.array([[0,-3],[-2,-1],[3,-3]])\n",
    "Matriz_c1=np.array([[2,-5,5,1],[5,2,-7,-6],[6,1,7,4],[5,4,1,-5]])\n",
    "Matriz_c2=np.array([[0,4,-7,1,-6],[-1,-6,-5,1,1],[2,1,6,5,5],[-3,-6,6,3,5]])\n",
    "Op_a=multiplicador_matrices(Matriz_a,Vector_a)\n",
    "Op_b=multiplicador_matrices(Matriz_b1,Matriz_b2)\n",
    "Op_c=multiplicador_matrices(Matriz_c1,Matriz_c2)\n",
    "print(\"Note que en el caso de la operación de matrices c se tiene que M1 por M2 es: \", Op_c, \" pero M2 por M1 no se puede realizar\" \\\n",
    "\".Por lo tanto, la multiplicación de matrices no es conmutativa en general.\")\n",
    "\n",
    "#PUNTO B\n",
    "#Primero vamos a crear una función que cree una matriz triangular\n",
    "def reduccion_gauss(A):\n",
    "    n_filas, n_columnas = np.shape(A)\n",
    "\n",
    "    for i in range(n_filas):\n",
    "        if A[i][i] == 0:\n",
    "            \n",
    "            return \"La matriz no se puede triangularizar debido a un elemento diagonal igual a cero.\"\n",
    "\n",
    "        for j in range(i + 1, n_filas):\n",
    "            factor = A[j][i] / A[i][i]\n",
    "            for k in range(n_columnas):\n",
    "                A[j][k] -= factor * A[i][k]\n",
    "\n",
    "    return A\n",
    "#Ahora creamos una función que separa los coeficientes del sistema del vector de constantes\n",
    "def coeficientes_vector(A):\n",
    "    vector_constantes = A[:, -1]\n",
    "    A = A[:, :-1]\n",
    "\n",
    "    return A, vector_constantes\n",
    "#Usamos el código de la clase para hallar el vector solución\n",
    "def back_substitution(A, b): \n",
    "    n = np.shape(A)[0]\n",
    "\n",
    "    x = np.zeros(n)\n",
    "\n",
    "    for i in range(n-1,-1,-1):\n",
    "        sum = b[i]\n",
    "        for j in range(n-1,i,-1):\n",
    "            sum -= A[i,j]*x[j]\n",
    "        x[i] = sum/A[i,i]\n",
    "\n",
    "    return x\n",
    "A=np.array([[3,1,-1,2],[1,-2,1,0],[4,-1,1,3]])\n",
    "B=np.array([[1,1,1,0],[-8,0,10,0],[-8,4,0,6]])\n",
    "Reducida_A=reduccion_gauss(A)\n",
    "Reducida_B=reduccion_gauss(B)\n",
    "Sol_A=back_substitution(coeficientes_vector(A)[0],coeficientes_vector(A)[1])\n",
    "Sol_B=back_substitution(coeficientes_vector(B)[0],coeficientes_vector(B)[1])\n",
    "Sol_B\n",
    "\n"
   ]
  },
  {
   "cell_type": "code",
   "execution_count": 5,
   "metadata": {},
   "outputs": [
    {
     "data": {
      "text/plain": [
       "array([[ 3,  1, -1,  2],\n",
       "       [ 0, -2,  1,  0],\n",
       "       [ 0,  0,  1,  0]])"
      ]
     },
     "execution_count": 5,
     "metadata": {},
     "output_type": "execute_result"
    }
   ],
   "source": [
    "Reducida_A"
   ]
  },
  {
   "cell_type": "code",
   "execution_count": 2,
   "metadata": {},
   "outputs": [
    {
     "data": {
      "text/plain": [
       "array([ 0.66666667, -0.        ,  0.        ])"
      ]
     },
     "execution_count": 2,
     "metadata": {},
     "output_type": "execute_result"
    }
   ],
   "source": [
    "Sol_A"
   ]
  },
  {
   "cell_type": "code",
   "execution_count": null,
   "metadata": {},
   "outputs": [],
   "source": []
  }
 ],
 "metadata": {
  "kernelspec": {
   "display_name": "base",
   "language": "python",
   "name": "python3"
  },
  "language_info": {
   "codemirror_mode": {
    "name": "ipython",
    "version": 3
   },
   "file_extension": ".py",
   "mimetype": "text/x-python",
   "name": "python",
   "nbconvert_exporter": "python",
   "pygments_lexer": "ipython3",
   "version": "3.11.4"
  }
 },
 "nbformat": 4,
 "nbformat_minor": 2
}
