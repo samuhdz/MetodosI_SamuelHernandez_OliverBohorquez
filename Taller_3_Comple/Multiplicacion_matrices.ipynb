{
 "cells": [
  {
   "cell_type": "code",
   "execution_count": 28,
   "metadata": {},
   "outputs": [
    {
     "name": "stdout",
     "output_type": "stream",
     "text": [
      "[[22.]]\n"
     ]
    }
   ],
   "source": [
    "import numpy as np\n",
    "import sympy as sym\n",
    "import matplotlib.pyplot as plt\n",
    "a=[[1,2,3]]\n",
    "b=[[2],[4], [4]]\n",
    "def columnas (A,n):\n",
    "    vector=np.array([])\n",
    "    if n<=np.shape(A)[1]:\n",
    "        for i in range(0,np.shape(A)[0]):\n",
    "            vector=np.append(vector,A[i][n])\n",
    "    else:\n",
    "        \"La columna indicada sobrepasa el índice de columnas de la matriz\"\n",
    "    return vector\n",
    "\n",
    "\n",
    "                   \n",
    "def multiplicador_matrices (A,B):\n",
    "    dim_A=np.shape(A)\n",
    "    dim_B=np.shape(B)\n",
    "    matriz_multi=np.zeros(shape= (dim_A[0],dim_B[1]))\n",
    "    if dim_A[1]==dim_B[0]:\n",
    "        for i in range(0,np.shape(A)[0]) :\n",
    "            for j in range(0,np.shape(B)[1]):\n",
    "                matriz_multi[i][j]=np.dot(A[i],columnas(B,j))\n",
    "    else:\n",
    "        return (\"Las matrices no se pueden multiplicar, maestro\")\n",
    "\n",
    "    return matriz_multi\n",
    "print(multiplicador_matrices(a,b))"
   ]
  }
 ],
 "metadata": {
  "kernelspec": {
   "display_name": "base",
   "language": "python",
   "name": "python3"
  },
  "language_info": {
   "codemirror_mode": {
    "name": "ipython",
    "version": 3
   },
   "file_extension": ".py",
   "mimetype": "text/x-python",
   "name": "python",
   "nbconvert_exporter": "python",
   "pygments_lexer": "ipython3",
   "version": "3.11.4"
  }
 },
 "nbformat": 4,
 "nbformat_minor": 2
}
