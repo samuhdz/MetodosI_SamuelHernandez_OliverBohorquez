{
 "cells": [
  {
   "cell_type": "code",
   "execution_count": 4,
   "metadata": {},
   "outputs": [
    {
     "name": "stdout",
     "output_type": "stream",
     "text": [
      "1.0000000000000002 [-0.40824815  0.40824897  0.81649631]\n"
     ]
    }
   ],
   "source": [
    "import numpy as np\n",
    "import sympy as sym\n",
    "\n",
    "#Ejercicio 4\n",
    "\n",
    "def columnas (A,n):\n",
    "    vector=np.array([])\n",
    "    if n<=np.shape(A)[1]:\n",
    "        for i in range(0,np.shape(A)[0]):\n",
    "            vector=np.append(vector,A[i][n])\n",
    "    else:\n",
    "        \"La columna indicada sobrepasa el índice de columnas de la matriz\"\n",
    "    return vector\n",
    "\n",
    "\n",
    "                   \n",
    "def multiplicador_matrices (A,B):\n",
    "    dim_A=np.shape(A)\n",
    "    dim_B=np.shape(B)\n",
    "    matriz_multi=np.zeros(shape= (dim_A[0],dim_B[1]))\n",
    "    if dim_A[1]==dim_B[0]:\n",
    "        for i in range(0,np.shape(A)[0]) :\n",
    "            for j in range(0,np.shape(B)[1]):\n",
    "                matriz_multi[i][j]=np.dot(A[i],columnas(B,j))\n",
    "    else:\n",
    "        return (\"Las matrices no se pueden multiplicar, maestro\")\n",
    "\n",
    "    return matriz_multi\n",
    "\n",
    "\n",
    "\n"
   ]
  },
  {
   "cell_type": "code",
   "execution_count": 11,
   "metadata": {},
   "outputs": [
    {
     "name": "stdout",
     "output_type": "stream",
     "text": [
      "El valor propio menor es: 0.9999999999999998  y su vector es:  [-0.40824764  0.40825156  0.81649527]\n"
     ]
    }
   ],
   "source": [
    "#Ejercicio 11\n",
    "\n",
    "#Tenemos la matriz\n",
    "A=np.array([[1,2,-1],[1,0,1],[4,-4,5]])\n",
    "A_inv=np.linalg.inv(A)\n",
    "random=np.random.rand(3)\n",
    "\n",
    "\n",
    "def hallar_vector_propio (A,vector,i):\n",
    "    normal_0=vector/np.linalg.norm(vector)\n",
    "    for j in range (i):\n",
    "        eigenvector=np.dot(A,normal_0)\n",
    "        eigenvector_normal=eigenvector/np.linalg.norm(eigenvector)\n",
    "        normal_0=eigenvector_normal\n",
    "    return normal_0\n",
    "\n",
    "vector=hallar_vector_propio (A_inv,random,20)\n",
    "vector_t=np.transpose(vector)\n",
    "eigenvalue=np.dot(vector,vector_t)\n",
    "print(\"El valor propio menor es:\" , eigenvalue, \" y su vector es: \" ,vector)\n",
    "\n"
   ]
  },
  {
   "cell_type": "code",
   "execution_count": 23,
   "metadata": {},
   "outputs": [
    {
     "name": "stdout",
     "output_type": "stream",
     "text": [
      "[[1068051.77568967 1068051.77568967]\n",
      " [ 197311.88725604 -977889.30638776]]\n"
     ]
    }
   ],
   "source": [
    "#Ejercicio 12\n",
    "\n",
    "#Definamos nuestro sistema\n",
    "sistema=np.array([lambda x,y: np.log((x**2)+(y**2)) - np.sin(x*y)-np.log(2)-np.log(np.pi),\n",
    "     lambda x,y: np.exp(x-y)+np.cos(x*y)])\n",
    "\n",
    "def GetF(G,r):\n",
    "    \n",
    "    n = r.shape[0]\n",
    "    \n",
    "    v = np.zeros_like(r)\n",
    "    \n",
    "    for i in range(n):\n",
    "        v[i] = G[i](r[0],r[1])\n",
    "        \n",
    "    return v\n",
    "\n",
    "\n",
    "def GetJacobian(f,r,h=1e-6):\n",
    "    \n",
    "    n = r.shape[0]\n",
    "    \n",
    "    J = np.zeros((n,n))\n",
    "    \n",
    "    for i in range(n):\n",
    "        for j in range(n):\n",
    "            \n",
    "            rf = r.copy()\n",
    "            rb = r.copy()\n",
    "            \n",
    "            rf[j] = rf[j] + h\n",
    "            rb[j] = rb[j] - h\n",
    "            \n",
    "            J[i,j] = ( f[i](rf[0],rf[1]) - f[i](rb[0],rb[1])  )/(2*h)\n",
    "            \n",
    "    \n",
    "    return J\n",
    "\n",
    "def NewtonRaphson(G,r,itmax=1000,error=1e-9):\n",
    "    \n",
    "    it = 0\n",
    "    d = 1.\n",
    "    dvector = []\n",
    "    \n",
    "    while d > error and it < itmax:\n",
    "        \n",
    "        # Vector actual\n",
    "        rc = r\n",
    "        \n",
    "        F = GetF(G,rc)\n",
    "        J = GetJacobian(G,rc)\n",
    "        InvJ = np.linalg.inv(J)\n",
    "        \n",
    "        r = rc - np.dot(InvJ,F)\n",
    "        \n",
    "        diff = r - rc\n",
    "        \n",
    "        d = np.max( np.abs(diff) )\n",
    "        \n",
    "        dvector.append(d)\n",
    "        print(dvector)\n",
    "        \n",
    "        it += 1\n",
    "    \n",
    "    \n",
    "    return r,dvector\n",
    "\n"
   ]
  }
 ],
 "metadata": {
  "kernelspec": {
   "display_name": "base",
   "language": "python",
   "name": "python3"
  },
  "language_info": {
   "codemirror_mode": {
    "name": "ipython",
    "version": 3
   },
   "file_extension": ".py",
   "mimetype": "text/x-python",
   "name": "python",
   "nbconvert_exporter": "python",
   "pygments_lexer": "ipython3",
   "version": "3.11.4"
  }
 },
 "nbformat": 4,
 "nbformat_minor": 2
}
